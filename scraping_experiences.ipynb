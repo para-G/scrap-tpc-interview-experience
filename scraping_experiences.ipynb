{
 "cells": [
  {
   "cell_type": "code",
   "execution_count": 33,
   "id": "a72891ab",
   "metadata": {},
   "outputs": [],
   "source": [
    "from selenium import webdriver\n",
    "from selenium.webdriver.common.keys import Keys\n",
    "import time"
   ]
  },
  {
   "cell_type": "code",
   "execution_count": 34,
   "id": "95891c34",
   "metadata": {},
   "outputs": [],
   "source": [
    "path = \"C:/Users/Dell/Downloads/chromedriver_win32/chromedriver.exe\""
   ]
  },
  {
   "cell_type": "code",
   "execution_count": 35,
   "id": "27ea08ea",
   "metadata": {},
   "outputs": [],
   "source": [
    "driver = webdriver.Chrome(path)"
   ]
  },
  {
   "cell_type": "code",
   "execution_count": 36,
   "id": "fc698d08",
   "metadata": {},
   "outputs": [],
   "source": [
    "driver.get(\"https://www.placement.iitbhu.ac.in/accounts/login/?next=/students/\")\n",
    "driver.find_element_by_id(\"id_login\").send_keys('maru.pvallabhbhai.met17@itbhu.ac.in')\n",
    "driver.find_element_by_id(\"id_password\").send_keys('XXXXX')\n",
    "driver.find_element_by_class_name(\"loginmodal-submit\").click()"
   ]
  },
  {
   "cell_type": "code",
   "execution_count": 44,
   "id": "ff78e91e",
   "metadata": {},
   "outputs": [
    {
     "name": "stdout",
     "output_type": "stream",
     "text": [
      "5\n",
      "Alphonso BDA\n",
      "4\n",
      "Mastercard (Associate Analyst)\n",
      "5\n",
      "Microsoft SDE\n",
      "2\n",
      "Vmock (Product Analyst)\n",
      "2\n",
      "Sprinklr (Data Scientist)\n",
      "2\n",
      "Udaan\n",
      "3\n",
      "Bajaj\n",
      "2\n",
      "Harness.ai\n",
      "2\n",
      "SAP Labs (Associate Developer - SAP IBSO)\n",
      "2\n",
      "Envestnet Yodlee\n",
      "2\n",
      "Innoplexus (DS)\n",
      "2\n",
      "Amazon\n",
      "2\n",
      "Jaguar Landrover GMET\n",
      "2\n",
      "KLA Tencor (Apps)\n",
      "3\n",
      "PhonePe (Graduate Trainee)\n",
      "3\n",
      "Jaguar Landrover GEET\n",
      "2\n",
      "Fiserv\n",
      "2\n",
      "Wells Fargo\n",
      "5\n",
      "Goldman Sachs\n",
      "2\n",
      "ICICI\n",
      "2\n",
      "Mindtickle\n",
      "2\n",
      "Paytm\n",
      "4\n",
      "Flipkart (Associate Business Analyst)\n",
      "4\n",
      "Societe Generale\n",
      "4\n",
      "Optum BDA\n",
      "2\n",
      "PayPal\n",
      "2\n",
      "Decision Point\n",
      "2\n",
      "J.P. Morgan (SDE)\n",
      "2\n",
      "Microsoft ML\n",
      "3\n",
      "Sprinklr (Product Engineer)\n",
      "2\n",
      "iRage Capital (SDE)\n",
      "4\n",
      "Citi\n",
      "4\n",
      "Tiger Analytics\n",
      "2\n",
      "Aarti Industries\n",
      "2\n",
      "MTX (SDE)\n",
      "2\n",
      "Oracle (ST)\n",
      "3\n",
      "Google\n",
      "2\n",
      "Apple\n",
      "2\n",
      "Thoughtspot\n",
      "2\n",
      "iRage Capital (Quant)\n",
      "2\n",
      "VMWare\n",
      "3\n",
      "ATCS\n",
      "3\n",
      "Fractal Analytics\n",
      "2\n",
      "SRF Limited\n",
      "2\n",
      "Citrix\n",
      "2\n",
      "Gameskraft\n",
      "2\n",
      "Far Eye\n",
      "2\n",
      "Jaguar Landrover (SDE)\n",
      "3\n",
      "Flipkart APM\n",
      "2\n",
      "Mastercard (AI)\n",
      "3\n",
      "Alphonso SDE\n",
      "2\n",
      "Sprinklr (Product Analyst)\n",
      "2\n",
      "Vedantu\n",
      "2\n",
      "L&T Limited\n",
      "2\n",
      "BNY Mellon\n",
      "2\n",
      "Rupeek (Business Analyst)\n"
     ]
    }
   ],
   "source": [
    "final = []\n",
    "for i in range(1,4):\n",
    "    driver.get(f'https://www.placement.iitbhu.ac.in/forum/c/placement-experience/placements-2020-21/?page={i}')\n",
    "    try:\n",
    "        c_links = driver.find_elements_by_class_name(\"topic-name\")\n",
    "        for i,links in enumerate(c_links[1:]):\n",
    "            if links.find_element_by_tag_name('a').text != 'Posting Guidelines' and int(driver.find_elements_by_class_name(\"topic-post-count\")[1:][i].text) >1:\n",
    "                print(driver.find_elements_by_class_name(\"topic-post-count\")[1:][i].text)\n",
    "    #             print(links.find_element_by_tag_name('a').get_attribute('href'))\n",
    "                print(links.find_element_by_tag_name('a').text)\n",
    "            \n",
    "        c_links = [{'name':link.find_element_by_tag_name('a').text,'link':link.find_element_by_tag_name('a').get_attribute('href')} for link in c_links[2:]]\n",
    "        final.append(c_links)\n",
    "    except Exception as e:\n",
    "        print(\"Tafri\", str(e))"
   ]
  },
  {
   "cell_type": "code",
   "execution_count": 50,
   "id": "df2e59d1",
   "metadata": {},
   "outputs": [
    {
     "name": "stdout",
     "output_type": "stream",
     "text": [
      "3\n",
      "[[{'name': 'Alphonso BDA', 'link': 'https://www.placement.iitbhu.ac.in/forum/c/placement-experience/placements-2020-21/alphonso-bda/'}, {'name': 'Mastercard (Associate Analyst)', 'link': 'https://www.placement.iitbhu.ac.in/forum/c/placement-experience/placements-2020-21/mastercard-associate-analyst/'}, {'name': 'Microsoft SDE', 'link': 'https://www.placement.iitbhu.ac.in/forum/c/placement-experience/placements-2020-21/microsoft-sde/'}, {'name': 'Vmock (Product Analyst)', 'link': 'https://www.placement.iitbhu.ac.in/forum/c/placement-experience/placements-2020-21/vmock-product-analyst/'}, {'name': 'Sprinklr (Data Scientist)', 'link': 'https://www.placement.iitbhu.ac.in/forum/c/placement-experience/placements-2020-21/sprinklr-data-scientist/'}, {'name': 'Udaan', 'link': 'https://www.placement.iitbhu.ac.in/forum/c/placement-experience/placements-2020-21/udaan/'}, {'name': 'Bajaj', 'link': 'https://www.placement.iitbhu.ac.in/forum/c/placement-experience/placements-2020-21/bajaj/'}, {'name': 'Harness.ai', 'link': 'https://www.placement.iitbhu.ac.in/forum/c/placement-experience/placements-2020-21/harnessai/'}, {'name': 'SAP Labs (Associate Developer - SAP IBSO)', 'link': 'https://www.placement.iitbhu.ac.in/forum/c/placement-experience/placements-2020-21/sap-labs-associate-developer-sap-ibso/'}, {'name': 'Envestnet Yodlee', 'link': 'https://www.placement.iitbhu.ac.in/forum/c/placement-experience/placements-2020-21/envestnet-yodlee/'}, {'name': 'Innoplexus (DS)', 'link': 'https://www.placement.iitbhu.ac.in/forum/c/placement-experience/placements-2020-21/innoplexus-ds/'}, {'name': 'Amazon', 'link': 'https://www.placement.iitbhu.ac.in/forum/c/placement-experience/placements-2020-21/amazon/'}, {'name': 'Jaguar Landrover GMET', 'link': 'https://www.placement.iitbhu.ac.in/forum/c/placement-experience/placements-2020-21/jaguar-gmet/'}, {'name': 'KLA Tencor (Apps)', 'link': 'https://www.placement.iitbhu.ac.in/forum/c/placement-experience/placements-2020-21/kla-tencor-apps/'}, {'name': 'PhonePe (Graduate Trainee)', 'link': 'https://www.placement.iitbhu.ac.in/forum/c/placement-experience/placements-2020-21/phonepe-graduate-trainee/'}, {'name': 'Jaguar Landrover GEET', 'link': 'https://www.placement.iitbhu.ac.in/forum/c/placement-experience/placements-2020-21/jaguar-geet/'}, {'name': 'Fiserv', 'link': 'https://www.placement.iitbhu.ac.in/forum/c/placement-experience/placements-2020-21/fiserv/'}, {'name': 'Wells Fargo', 'link': 'https://www.placement.iitbhu.ac.in/forum/c/placement-experience/placements-2020-21/wells-fargo/'}, {'name': 'Goldman Sachs', 'link': 'https://www.placement.iitbhu.ac.in/forum/c/placement-experience/placements-2020-21/goldman-sachs/'}, {'name': 'ICICI', 'link': 'https://www.placement.iitbhu.ac.in/forum/c/placement-experience/placements-2020-21/icici/'}, {'name': 'Mindtickle', 'link': 'https://www.placement.iitbhu.ac.in/forum/c/placement-experience/placements-2020-21/mindtickle/'}, {'name': 'Paytm', 'link': 'https://www.placement.iitbhu.ac.in/forum/c/placement-experience/placements-2020-21/paytm/'}, {'name': 'Flipkart (Associate Business Analyst)', 'link': 'https://www.placement.iitbhu.ac.in/forum/c/placement-experience/placements-2020-21/flipkart-associate-business-analyst/'}, {'name': 'Societe Generale', 'link': 'https://www.placement.iitbhu.ac.in/forum/c/placement-experience/placements-2020-21/societe-generale/'}], [{'name': 'PayPal', 'link': 'https://www.placement.iitbhu.ac.in/forum/c/placement-experience/placements-2020-21/paypal/'}, {'name': 'Decision Point', 'link': 'https://www.placement.iitbhu.ac.in/forum/c/placement-experience/placements-2020-21/decision-point/'}, {'name': 'J.P. Morgan (SDE)', 'link': 'https://www.placement.iitbhu.ac.in/forum/c/placement-experience/placements-2020-21/jp-morgan-sde/'}, {'name': 'Microsoft ML', 'link': 'https://www.placement.iitbhu.ac.in/forum/c/placement-experience/placements-2020-21/microsoft-ml/'}, {'name': 'Sprinklr (Product Engineer)', 'link': 'https://www.placement.iitbhu.ac.in/forum/c/placement-experience/placements-2020-21/sprinklr-product-engineer/'}, {'name': 'iRage Capital (SDE)', 'link': 'https://www.placement.iitbhu.ac.in/forum/c/placement-experience/placements-2020-21/irage-capital-sde/'}, {'name': 'Citi', 'link': 'https://www.placement.iitbhu.ac.in/forum/c/placement-experience/placements-2020-21/citi/'}, {'name': 'Tiger Analytics', 'link': 'https://www.placement.iitbhu.ac.in/forum/c/placement-experience/placements-2020-21/tiger-analytics/'}, {'name': 'Aarti Industries', 'link': 'https://www.placement.iitbhu.ac.in/forum/c/placement-experience/placements-2020-21/aarti-industries/'}, {'name': 'MTX (SDE)', 'link': 'https://www.placement.iitbhu.ac.in/forum/c/placement-experience/placements-2020-21/mtx-sde/'}, {'name': 'Oracle (ST)', 'link': 'https://www.placement.iitbhu.ac.in/forum/c/placement-experience/placements-2020-21/oracle-st/'}, {'name': 'Google', 'link': 'https://www.placement.iitbhu.ac.in/forum/c/placement-experience/placements-2020-21/google/'}, {'name': 'Apple', 'link': 'https://www.placement.iitbhu.ac.in/forum/c/placement-experience/placements-2020-21/apple/'}, {'name': 'Thoughtspot', 'link': 'https://www.placement.iitbhu.ac.in/forum/c/placement-experience/placements-2020-21/thoughtspot/'}, {'name': 'iRage Capital (Quant)', 'link': 'https://www.placement.iitbhu.ac.in/forum/c/placement-experience/placements-2020-21/irage-capital-quant/'}, {'name': 'VMWare', 'link': 'https://www.placement.iitbhu.ac.in/forum/c/placement-experience/placements-2020-21/vmware/'}, {'name': 'ATCS', 'link': 'https://www.placement.iitbhu.ac.in/forum/c/placement-experience/placements-2020-21/atcs/'}, {'name': 'Fractal Analytics', 'link': 'https://www.placement.iitbhu.ac.in/forum/c/placement-experience/placements-2020-21/fractal-analytics/'}, {'name': 'SRF Limited', 'link': 'https://www.placement.iitbhu.ac.in/forum/c/placement-experience/placements-2020-21/srf-limited/'}, {'name': 'Citrix', 'link': 'https://www.placement.iitbhu.ac.in/forum/c/placement-experience/placements-2020-21/citrix/'}, {'name': 'Gameskraft', 'link': 'https://www.placement.iitbhu.ac.in/forum/c/placement-experience/placements-2020-21/gameskraft/'}, {'name': 'Far Eye', 'link': 'https://www.placement.iitbhu.ac.in/forum/c/placement-experience/placements-2020-21/far-eye/'}, {'name': 'Jaguar Landrover (SDE)', 'link': 'https://www.placement.iitbhu.ac.in/forum/c/placement-experience/placements-2020-21/jaguar-landrover-sde/'}, {'name': 'Flipkart APM', 'link': 'https://www.placement.iitbhu.ac.in/forum/c/placement-experience/placements-2020-21/flipkart-apm/'}], [{'name': 'Alphonso SDE', 'link': 'https://www.placement.iitbhu.ac.in/forum/c/placement-experience/placements-2020-21/alphonso-sde/'}, {'name': 'Sprinklr (Product Analyst)', 'link': 'https://www.placement.iitbhu.ac.in/forum/c/placement-experience/placements-2020-21/sprinklr-product-analyst/'}, {'name': 'Vedantu', 'link': 'https://www.placement.iitbhu.ac.in/forum/c/placement-experience/placements-2020-21/vedantu/'}, {'name': 'L&T Limited', 'link': 'https://www.placement.iitbhu.ac.in/forum/c/placement-experience/placements-2020-21/lt-limited/'}, {'name': 'BNY Mellon', 'link': 'https://www.placement.iitbhu.ac.in/forum/c/placement-experience/placements-2020-21/bny-mellon/'}, {'name': 'Rupeek (Business Analyst)', 'link': 'https://www.placement.iitbhu.ac.in/forum/c/placement-experience/placements-2020-21/rupeek-business-analyst/'}, {'name': 'Pal Rematerials', 'link': 'https://www.placement.iitbhu.ac.in/forum/c/placement-experience/placements-2020-21/pal-rematerials/'}, {'name': 'Media.net', 'link': 'https://www.placement.iitbhu.ac.in/forum/c/placement-experience/placements-2020-21/medianet/'}, {'name': 'Eaton', 'link': 'https://www.placement.iitbhu.ac.in/forum/c/placement-experience/placements-2020-21/eaton/'}, {'name': 'Undostres', 'link': 'https://www.placement.iitbhu.ac.in/forum/c/placement-experience/placements-2020-21/undostres/'}, {'name': 'Beehyv', 'link': 'https://www.placement.iitbhu.ac.in/forum/c/placement-experience/placements-2020-21/beehyv/'}, {'name': 'Lummus Tech', 'link': 'https://www.placement.iitbhu.ac.in/forum/c/placement-experience/placements-2020-21/lummus-tech/'}, {'name': 'UBS', 'link': 'https://www.placement.iitbhu.ac.in/forum/c/placement-experience/placements-2020-21/ubs/'}, {'name': 'Technoforte (SWE)', 'link': 'https://www.placement.iitbhu.ac.in/forum/c/placement-experience/placements-2020-21/technoforte-swe/'}, {'name': 'Appypie LLP', 'link': 'https://www.placement.iitbhu.ac.in/forum/c/placement-experience/placements-2020-21/appypie-llp/'}, {'name': 'Merilytics (Business Analyst)', 'link': 'https://www.placement.iitbhu.ac.in/forum/c/placement-experience/placements-2020-21/merilytics-business-analyst/'}, {'name': 'Merilytics (Analyst IT)', 'link': 'https://www.placement.iitbhu.ac.in/forum/c/placement-experience/placements-2020-21/merilytics-analyst-it/'}, {'name': 'Tata Consultancy Services', 'link': 'https://www.placement.iitbhu.ac.in/forum/c/placement-experience/placements-2020-21/tata-consultancy-services/'}, {'name': 'Wipro', 'link': 'https://www.placement.iitbhu.ac.in/forum/c/placement-experience/placements-2020-21/wipro/'}, {'name': 'Nation with Namo', 'link': 'https://www.placement.iitbhu.ac.in/forum/c/placement-experience/placements-2020-21/nation-with-namo/'}, {'name': 'Epsilon', 'link': 'https://www.placement.iitbhu.ac.in/forum/c/placement-experience/placements-2020-21/epsilon/'}, {'name': 'Persistent', 'link': 'https://www.placement.iitbhu.ac.in/forum/c/placement-experience/placements-2020-21/persistent/'}, {'name': 'Lynk', 'link': 'https://www.placement.iitbhu.ac.in/forum/c/placement-experience/placements-2020-21/lynk/'}, {'name': 'Quantiphi', 'link': 'https://www.placement.iitbhu.ac.in/forum/c/placement-experience/placements-2020-21/quantiphi/'}]]\n"
     ]
    }
   ],
   "source": [
    "print(len(final))\n",
    "print(final)"
   ]
  },
  {
   "cell_type": "code",
   "execution_count": 51,
   "id": "8cd60c02",
   "metadata": {},
   "outputs": [],
   "source": [
    "output = []\n",
    "for j in final:\n",
    "    for i in j:\n",
    "        output.append(i)"
   ]
  },
  {
   "cell_type": "code",
   "execution_count": 52,
   "id": "2516a908",
   "metadata": {},
   "outputs": [
    {
     "data": {
      "text/plain": [
       "72"
      ]
     },
     "execution_count": 52,
     "metadata": {},
     "output_type": "execute_result"
    }
   ],
   "source": [
    "len(output)"
   ]
  },
  {
   "cell_type": "code",
   "execution_count": 48,
   "id": "25e921f7",
   "metadata": {},
   "outputs": [],
   "source": [
    "import json\n",
    "with open('int_exp.json', mode= 'w') as f:\n",
    "    f.write(json.dumps(output))"
   ]
  },
  {
   "cell_type": "code",
   "execution_count": 54,
   "id": "fdca6d7e",
   "metadata": {},
   "outputs": [
    {
     "name": "stdout",
     "output_type": "stream",
     "text": [
      "https://www.placement.iitbhu.ac.in/forum/c/placement-experience/placements-2020-21/alphonso-bda/\n",
      "https://www.placement.iitbhu.ac.in/forum/c/placement-experience/placements-2020-21/mastercard-associate-analyst/\n",
      "https://www.placement.iitbhu.ac.in/forum/c/placement-experience/placements-2020-21/microsoft-sde/\n",
      "https://www.placement.iitbhu.ac.in/forum/c/placement-experience/placements-2020-21/vmock-product-analyst/\n",
      "https://www.placement.iitbhu.ac.in/forum/c/placement-experience/placements-2020-21/sprinklr-data-scientist/\n",
      "https://www.placement.iitbhu.ac.in/forum/c/placement-experience/placements-2020-21/udaan/\n",
      "https://www.placement.iitbhu.ac.in/forum/c/placement-experience/placements-2020-21/bajaj/\n",
      "https://www.placement.iitbhu.ac.in/forum/c/placement-experience/placements-2020-21/harnessai/\n",
      "https://www.placement.iitbhu.ac.in/forum/c/placement-experience/placements-2020-21/sap-labs-associate-developer-sap-ibso/\n",
      "https://www.placement.iitbhu.ac.in/forum/c/placement-experience/placements-2020-21/envestnet-yodlee/\n",
      "https://www.placement.iitbhu.ac.in/forum/c/placement-experience/placements-2020-21/innoplexus-ds/\n",
      "https://www.placement.iitbhu.ac.in/forum/c/placement-experience/placements-2020-21/amazon/\n",
      "https://www.placement.iitbhu.ac.in/forum/c/placement-experience/placements-2020-21/jaguar-gmet/\n",
      "https://www.placement.iitbhu.ac.in/forum/c/placement-experience/placements-2020-21/kla-tencor-apps/\n",
      "https://www.placement.iitbhu.ac.in/forum/c/placement-experience/placements-2020-21/phonepe-graduate-trainee/\n",
      "https://www.placement.iitbhu.ac.in/forum/c/placement-experience/placements-2020-21/jaguar-geet/\n",
      "https://www.placement.iitbhu.ac.in/forum/c/placement-experience/placements-2020-21/fiserv/\n",
      "https://www.placement.iitbhu.ac.in/forum/c/placement-experience/placements-2020-21/wells-fargo/\n",
      "https://www.placement.iitbhu.ac.in/forum/c/placement-experience/placements-2020-21/goldman-sachs/\n",
      "https://www.placement.iitbhu.ac.in/forum/c/placement-experience/placements-2020-21/icici/\n",
      "https://www.placement.iitbhu.ac.in/forum/c/placement-experience/placements-2020-21/mindtickle/\n",
      "https://www.placement.iitbhu.ac.in/forum/c/placement-experience/placements-2020-21/paytm/\n",
      "https://www.placement.iitbhu.ac.in/forum/c/placement-experience/placements-2020-21/flipkart-associate-business-analyst/\n",
      "https://www.placement.iitbhu.ac.in/forum/c/placement-experience/placements-2020-21/societe-generale/\n",
      "https://www.placement.iitbhu.ac.in/forum/c/placement-experience/placements-2020-21/paypal/\n",
      "https://www.placement.iitbhu.ac.in/forum/c/placement-experience/placements-2020-21/decision-point/\n",
      "https://www.placement.iitbhu.ac.in/forum/c/placement-experience/placements-2020-21/jp-morgan-sde/\n",
      "https://www.placement.iitbhu.ac.in/forum/c/placement-experience/placements-2020-21/microsoft-ml/\n",
      "https://www.placement.iitbhu.ac.in/forum/c/placement-experience/placements-2020-21/sprinklr-product-engineer/\n",
      "https://www.placement.iitbhu.ac.in/forum/c/placement-experience/placements-2020-21/irage-capital-sde/\n",
      "https://www.placement.iitbhu.ac.in/forum/c/placement-experience/placements-2020-21/citi/\n",
      "https://www.placement.iitbhu.ac.in/forum/c/placement-experience/placements-2020-21/tiger-analytics/\n",
      "https://www.placement.iitbhu.ac.in/forum/c/placement-experience/placements-2020-21/aarti-industries/\n",
      "https://www.placement.iitbhu.ac.in/forum/c/placement-experience/placements-2020-21/mtx-sde/\n",
      "https://www.placement.iitbhu.ac.in/forum/c/placement-experience/placements-2020-21/oracle-st/\n",
      "https://www.placement.iitbhu.ac.in/forum/c/placement-experience/placements-2020-21/google/\n",
      "https://www.placement.iitbhu.ac.in/forum/c/placement-experience/placements-2020-21/apple/\n",
      "https://www.placement.iitbhu.ac.in/forum/c/placement-experience/placements-2020-21/thoughtspot/\n",
      "https://www.placement.iitbhu.ac.in/forum/c/placement-experience/placements-2020-21/irage-capital-quant/\n",
      "https://www.placement.iitbhu.ac.in/forum/c/placement-experience/placements-2020-21/vmware/\n",
      "https://www.placement.iitbhu.ac.in/forum/c/placement-experience/placements-2020-21/atcs/\n",
      "https://www.placement.iitbhu.ac.in/forum/c/placement-experience/placements-2020-21/fractal-analytics/\n",
      "https://www.placement.iitbhu.ac.in/forum/c/placement-experience/placements-2020-21/srf-limited/\n",
      "https://www.placement.iitbhu.ac.in/forum/c/placement-experience/placements-2020-21/citrix/\n",
      "https://www.placement.iitbhu.ac.in/forum/c/placement-experience/placements-2020-21/gameskraft/\n",
      "https://www.placement.iitbhu.ac.in/forum/c/placement-experience/placements-2020-21/far-eye/\n",
      "https://www.placement.iitbhu.ac.in/forum/c/placement-experience/placements-2020-21/jaguar-landrover-sde/\n",
      "https://www.placement.iitbhu.ac.in/forum/c/placement-experience/placements-2020-21/flipkart-apm/\n",
      "https://www.placement.iitbhu.ac.in/forum/c/placement-experience/placements-2020-21/alphonso-sde/\n",
      "https://www.placement.iitbhu.ac.in/forum/c/placement-experience/placements-2020-21/sprinklr-product-analyst/\n",
      "https://www.placement.iitbhu.ac.in/forum/c/placement-experience/placements-2020-21/vedantu/\n",
      "https://www.placement.iitbhu.ac.in/forum/c/placement-experience/placements-2020-21/lt-limited/\n",
      "https://www.placement.iitbhu.ac.in/forum/c/placement-experience/placements-2020-21/bny-mellon/\n",
      "https://www.placement.iitbhu.ac.in/forum/c/placement-experience/placements-2020-21/rupeek-business-analyst/\n",
      "https://www.placement.iitbhu.ac.in/forum/c/placement-experience/placements-2020-21/pal-rematerials/\n",
      "https://www.placement.iitbhu.ac.in/forum/c/placement-experience/placements-2020-21/medianet/\n",
      "https://www.placement.iitbhu.ac.in/forum/c/placement-experience/placements-2020-21/eaton/\n",
      "https://www.placement.iitbhu.ac.in/forum/c/placement-experience/placements-2020-21/undostres/\n",
      "https://www.placement.iitbhu.ac.in/forum/c/placement-experience/placements-2020-21/beehyv/\n",
      "https://www.placement.iitbhu.ac.in/forum/c/placement-experience/placements-2020-21/lummus-tech/\n",
      "https://www.placement.iitbhu.ac.in/forum/c/placement-experience/placements-2020-21/ubs/\n",
      "https://www.placement.iitbhu.ac.in/forum/c/placement-experience/placements-2020-21/technoforte-swe/\n",
      "https://www.placement.iitbhu.ac.in/forum/c/placement-experience/placements-2020-21/appypie-llp/\n",
      "https://www.placement.iitbhu.ac.in/forum/c/placement-experience/placements-2020-21/merilytics-business-analyst/\n",
      "https://www.placement.iitbhu.ac.in/forum/c/placement-experience/placements-2020-21/merilytics-analyst-it/\n",
      "https://www.placement.iitbhu.ac.in/forum/c/placement-experience/placements-2020-21/tata-consultancy-services/\n",
      "https://www.placement.iitbhu.ac.in/forum/c/placement-experience/placements-2020-21/wipro/\n",
      "https://www.placement.iitbhu.ac.in/forum/c/placement-experience/placements-2020-21/nation-with-namo/\n",
      "https://www.placement.iitbhu.ac.in/forum/c/placement-experience/placements-2020-21/epsilon/\n",
      "https://www.placement.iitbhu.ac.in/forum/c/placement-experience/placements-2020-21/persistent/\n",
      "https://www.placement.iitbhu.ac.in/forum/c/placement-experience/placements-2020-21/lynk/\n",
      "https://www.placement.iitbhu.ac.in/forum/c/placement-experience/placements-2020-21/quantiphi/\n"
     ]
    }
   ],
   "source": [
    "for c in output:\n",
    "    print(c['link'])\n",
    "    "
   ]
  }
 ],
 "metadata": {
  "kernelspec": {
   "display_name": "Python 3 (ipykernel)",
   "language": "python",
   "name": "python3"
  },
  "language_info": {
   "codemirror_mode": {
    "name": "ipython",
    "version": 3
   },
   "file_extension": ".py",
   "mimetype": "text/x-python",
   "name": "python",
   "nbconvert_exporter": "python",
   "pygments_lexer": "ipython3",
   "version": "3.9.6"
  }
 },
 "nbformat": 4,
 "nbformat_minor": 5
}
